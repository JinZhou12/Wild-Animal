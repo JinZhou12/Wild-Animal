{
 "cells": [
  {
   "cell_type": "code",
   "execution_count": 1,
   "id": "b31a5ac5-a8b7-4ef0-a5d8-41d59e5c37df",
   "metadata": {},
   "outputs": [],
   "source": [
    "from minio import Minio\n",
    "import duckdb\n",
    "import pandas as pd\n",
    "import numpy as np"
   ]
  },
  {
   "cell_type": "code",
   "execution_count": 2,
   "id": "5684f535-7bbc-435d-afb2-504cbc647688",
   "metadata": {},
   "outputs": [
    {
     "data": {
      "text/plain": [
       "<duckdb.duckdb.DuckDBPyConnection at 0x7f5d8113c930>"
      ]
     },
     "execution_count": 2,
     "metadata": {},
     "output_type": "execute_result"
    }
   ],
   "source": [
    "ACCESS_KEY = \"RkX19daoA4QpeUytwGna\"\n",
    "SECRET_ACCESS_KEY = \"jIr2nk8MPaT6xUn5p9qFuSZISg36ykrqXlP2lyjs\"\n",
    "STORAGE_OPTIONS = {\n",
    "        \"key\": ACCESS_KEY,\n",
    "        \"secret\": SECRET_ACCESS_KEY,\n",
    "        \"endpoint_url\": \"http://minio-api-svc\"}\n",
    "\n",
    "client = Minio(\n",
    "    \"minio-api-svc\",\n",
    "    access_key=ACCESS_KEY,\n",
    "    secret_key=SECRET_ACCESS_KEY,\n",
    "    secure=False\n",
    ")\n",
    "connection = duckdb.connect()\n",
    "connection.execute(\"INSTALL httpfs\")\n",
    "connection.execute(\"LOAD httpfs\")\n",
    "connection.execute(\"SET s3_region='us-east-1'\")\n",
    "connection.execute(\"SET s3_access_key_id='KhjA5yMeOPzDWDyh'\")\n",
    "connection.execute(\"SET s3_secret_access_key='PTzHBYNc1HmO3TNdKN3IjUIJx3Q5VS5m'\")\n",
    "connection.execute(\"SET s3_endpoint='minio-api-svc';\")\n",
    "connection.execute(\"SET s3_use_ssl=false\")\n",
    "connection.execute(\"SET s3_url_style=path\")\n"
   ]
  },
  {
   "cell_type": "code",
   "execution_count": 4,
   "id": "41567a9b-3b33-4719-b044-7b7264b943f6",
   "metadata": {},
   "outputs": [],
   "source": [
    "df = pd.read_parquet(\"data_labeled_feb_7_2024.parquet\")"
   ]
  },
  {
   "cell_type": "code",
   "execution_count": 5,
   "id": "860f0fa4-e55b-4ddf-a24d-c6232118d289",
   "metadata": {},
   "outputs": [
    {
     "data": {
      "text/plain": [
       "0       0016dc48-0838-4d05-9d9d-48240782a149.png\n",
       "1       004602cf-360e-4a71-8ac2-836462c00206.png\n",
       "2       00797dee-651c-4b51-8d7a-5c5ecb1782d4.png\n",
       "3       00f3d4bd-ed07-46ad-92d5-1697a7b97d01.png\n",
       "4       010b09ef-87ee-4cd8-b4ca-c229d9ab662b.png\n",
       "                          ...                   \n",
       "1745    ffbe872d-79bd-4ca8-b1dd-adaa21e437a2.png\n",
       "1746    ffbf633f-5460-4aa5-aa14-385d13a0b4f6.png\n",
       "1747    ffc5a649-af6f-439a-ae4d-77326bb835a9.png\n",
       "1748    ffe63b9a-dfde-4609-bb5e-38451cccf52d.png\n",
       "1749    fff5eadb-ca02-4b08-8149-30812221564b.png\n",
       "Name: image_path, Length: 1750, dtype: object"
      ]
     },
     "execution_count": 5,
     "metadata": {},
     "output_type": "execute_result"
    }
   ],
   "source": [
    "df[\"image_path\"]"
   ]
  },
  {
   "cell_type": "code",
   "execution_count": 6,
   "id": "90472564-a8e1-4a68-887f-6495e6a753cb",
   "metadata": {},
   "outputs": [],
   "source": [
    "bucket_name_images = \"images-october\""
   ]
  },
  {
   "cell_type": "code",
   "execution_count": null,
   "id": "e827ad40-ce36-4bbb-93ce-de3cd6098624",
   "metadata": {},
   "outputs": [],
   "source": []
  },
  {
   "cell_type": "code",
   "execution_count": 65,
   "id": "887a6459-d6fb-40c4-b539-973253f7a9e2",
   "metadata": {},
   "outputs": [],
   "source": [
    "df = pd.read_csv(\"data_labeled_feb_7_2024.csv\")\n",
    "df[\"path\"] = \"local_images/\"+df[\"image_path\"]\n",
    "df[\"label\"] = np.where(df.relevant == \"animal origin\", 1, 0)\n",
    "df = df.dropna(subset = [\"title\"])"
   ]
  },
  {
   "cell_type": "code",
   "execution_count": 3,
   "id": "7f1857c7-e6ad-4de6-8f27-be8e1bbc4bfa",
   "metadata": {},
   "outputs": [],
   "source": [
    "from torch.utils.data import DataLoader, Dataset, random_split\n",
    "from transformers import BertTokenizer, BertForSequenceClassification, AdamW\n",
    "from torchvision.transforms import transforms\n",
    "import torch.nn as nn\n",
    "import torch\n",
    "from transformers import BertModel, RobertaModel, DistilBertModel\n",
    "from torchvision.models import resnet50\n",
    "from torch import cuda\n",
    "from PIL import Image\n",
    "import time\n",
    "from transformers import RobertaForSequenceClassification, RobertaTokenizer\n",
    "from transformers import DistilBertForSequenceClassification, DistilBertTokenizer\n",
    "from torchvision import models\n",
    "import torch.nn.functional as F"
   ]
  },
  {
   "cell_type": "code",
   "execution_count": 4,
   "id": "614ed9c7-890c-4d7c-8510-919edceb2e04",
   "metadata": {},
   "outputs": [],
   "source": [
    "from io import BytesIO"
   ]
  },
  {
   "cell_type": "code",
   "execution_count": 5,
   "id": "d520c8f6-4e2b-40a7-bbf0-c788ada1c978",
   "metadata": {},
   "outputs": [],
   "source": [
    "# We will first prepare the dataset for inference\n",
    "class InferenceDataset(Dataset):\n",
    "    def __init__(self, dataframe, tokenizer, max_len, transform=None):\n",
    "        self.dataframe = dataframe\n",
    "        self.tokenizer = tokenizer\n",
    "        self.max_len = max_len\n",
    "        self.transform = transform\n",
    "    \n",
    "    def __len__(self):\n",
    "        return len(self.dataframe)\n",
    "\n",
    "    def __getitem__(self, idx):\n",
    "        row = self.dataframe.iloc[idx]\n",
    "        text = row['title']\n",
    "        img_path = row['path']\n",
    "        \n",
    "        # Processing text\n",
    "        encoding = self.tokenizer.encode_plus(\n",
    "            text,\n",
    "            add_special_tokens=True,\n",
    "            max_length=self.max_len,\n",
    "            return_token_type_ids=False,\n",
    "            padding='max_length',\n",
    "            return_attention_mask=True,\n",
    "            return_tensors='pt',\n",
    "            truncation=True\n",
    "        )\n",
    "        \n",
    "        # GETTING DATA FROM MINIO\n",
    "        # object_name = image_path\n",
    "        # image_data = client.get_object(bucket_name, object_name)\n",
    "        # image_bytes = image_data.read()\n",
    "        # image = Image.open(BytesIO(image_bytes)).convert(\"RGB\")\n",
    "        \n",
    "        # Processing images\n",
    "        image = Image.open(img_path).convert(\"RGB\")\n",
    "        if self.transform:\n",
    "            image = self.transform(image)\n",
    "        \n",
    "        return {\n",
    "            'input_ids': encoding['input_ids'].flatten(),\n",
    "            'attention_mask': encoding['attention_mask'].flatten(),\n",
    "            'image': image\n",
    "        }\n"
   ]
  },
  {
   "cell_type": "code",
   "execution_count": 48,
   "id": "3a8c854f-9551-41c0-b54d-ed4491563499",
   "metadata": {},
   "outputs": [],
   "source": [
    "# Combine text fields\n",
    "# df['path'] = \"local_images/\" + df['image_path']"
   ]
  },
  {
   "cell_type": "code",
   "execution_count": 79,
   "id": "ba1acf51-dfeb-41dc-a925-2e7f7505e989",
   "metadata": {},
   "outputs": [],
   "source": [
    "# Constants\n",
    "MAX_LEN = 128\n",
    "BATCH_SIZE = 16\n",
    "\n",
    "tokenizer = DistilBertTokenizer.from_pretrained('distilbert-base-uncased')\n",
    "\n",
    "transform = transforms.Compose([\n",
    "    transforms.RandomHorizontalFlip(),\n",
    "    transforms.RandomRotation(10),\n",
    "    transforms.RandomResizedCrop(224, scale=(0.8, 1.0)),\n",
    "    transforms.ColorJitter(brightness=0.2, contrast=0.2, saturation=0.2, hue=0.1),\n",
    "    transforms.ToTensor(),\n",
    "])\n",
    "\n",
    "# Prepare dataset and dataloader for inference\n",
    "inference_dataset = InferenceDataset(\n",
    "    dataframe=df,\n",
    "    tokenizer=tokenizer,  \n",
    "    max_len=MAX_LEN,\n",
    "    transform=transform\n",
    ")\n",
    "\n",
    "inference_dataloader = DataLoader(inference_dataset, batch_size=BATCH_SIZE, shuffle=False)"
   ]
  },
  {
   "cell_type": "code",
   "execution_count": 6,
   "id": "a779c8bf-fd40-4558-9e15-41599e96ed59",
   "metadata": {},
   "outputs": [
    {
     "name": "stderr",
     "output_type": "stream",
     "text": [
      "/home/jovyan/.local/lib/python3.9/site-packages/torchvision/models/_utils.py:208: UserWarning: The parameter 'pretrained' is deprecated since 0.13 and may be removed in the future, please use 'weights' instead.\n",
      "  warnings.warn(\n",
      "/home/jovyan/.local/lib/python3.9/site-packages/torchvision/models/_utils.py:223: UserWarning: Arguments other than a weight enum or `None` for 'weights' are deprecated since 0.13 and may be removed in the future. The current behavior is equivalent to passing `weights=EfficientNet_V2_M_Weights.IMAGENET1K_V1`. You can also use `weights=EfficientNet_V2_M_Weights.DEFAULT` to get the most up-to-date weights.\n",
      "  warnings.warn(msg)\n"
     ]
    }
   ],
   "source": [
    "text = DistilBertModel.from_pretrained('distilbert-base-uncased')\n",
    "\n",
    "img = models.efficientnet_v2_m(pretrained=True)\n",
    "\n",
    "class MultiHeadCrossAttention(nn.Module):\n",
    "    def __init__(self, text_dim, image_dim, num_heads, hidden_dim, output_dim):\n",
    "        super(MultiHeadCrossAttention, self).__init__()\n",
    "        self.num_heads = num_heads\n",
    "        self.head_dim = hidden_dim // num_heads\n",
    "\n",
    "        # These linear layers project the inputs to multiple heads\n",
    "        self.text_query = nn.Linear(text_dim, hidden_dim, bias=False)\n",
    "        self.text_key = nn.Linear(text_dim, hidden_dim, bias=False)\n",
    "        self.text_value = nn.Linear(text_dim, hidden_dim, bias=False)\n",
    "\n",
    "        self.image_query = nn.Linear(image_dim, hidden_dim, bias=False)\n",
    "        self.image_key = nn.Linear(image_dim, hidden_dim, bias=False)\n",
    "        self.image_value = nn.Linear(image_dim, hidden_dim, bias=False)\n",
    "\n",
    "        # Final projection layer\n",
    "        self.out_proj = nn.Linear(hidden_dim, output_dim, bias=False)\n",
    "\n",
    "    def forward(self, text_features, image_features):\n",
    "        Q_text = self.text_query(text_features)\n",
    "        K_text = self.text_key(text_features)\n",
    "        V_text = self.text_value(text_features)\n",
    "\n",
    "        Q_image = self.image_query(image_features)\n",
    "        K_image = self.image_key(image_features)\n",
    "        V_image = self.image_value(image_features)\n",
    "\n",
    "        # Split the hidden dimension into num_heads\n",
    "        Q_text = Q_text.view(Q_text.size(0), -1, self.num_heads, self.head_dim).transpose(1, 2)\n",
    "        K_text = K_text.view(K_text.size(0), -1, self.num_heads, self.head_dim).transpose(1, 2)\n",
    "        V_text = V_text.view(V_text.size(0), -1, self.num_heads, self.head_dim).transpose(1, 2)\n",
    "\n",
    "        Q_image = Q_image.view(Q_image.size(0), -1, self.num_heads, self.head_dim).transpose(1, 2)\n",
    "        K_image = K_image.view(K_image.size(0), -1, self.num_heads, self.head_dim).transpose(1, 2)\n",
    "        V_image = V_image.view(V_image.size(0), -1, self.num_heads, self.head_dim).transpose(1, 2)\n",
    "\n",
    "        # Calculate the attention scores\n",
    "        attn_scores_text_image = torch.matmul(Q_text, K_image.transpose(-1, -2)) / (self.head_dim ** 0.5)\n",
    "        attn_scores_image_text = torch.matmul(Q_image, K_text.transpose(-1, -2)) / (self.head_dim ** 0.5)\n",
    "\n",
    "        # Normalize scores\n",
    "        attn_probs_text_image = F.softmax(attn_scores_text_image, dim=-1)\n",
    "        attn_probs_image_text = F.softmax(attn_scores_image_text, dim=-1)\n",
    "\n",
    "        # Apply attention\n",
    "        attn_output_text_image = torch.matmul(attn_probs_text_image, V_image)\n",
    "        attn_output_image_text = torch.matmul(attn_probs_image_text, V_text)\n",
    "\n",
    "        # Concatenate the results across the heads\n",
    "        attn_output_text_image = attn_output_text_image.transpose(1, 2).contiguous().view(text_features.size(0), -1)\n",
    "        attn_output_image_text = attn_output_image_text.transpose(1, 2).contiguous().view(image_features.size(0), -1)\n",
    "\n",
    "        # Project to output dimension\n",
    "        output_text_image = self.out_proj(attn_output_text_image)\n",
    "        output_image_text = self.out_proj(attn_output_image_text)\n",
    "\n",
    "        return output_text_image, output_image_text\n",
    "\n",
    "\n",
    "class MultiModalModel(nn.Module):\n",
    "            def __init__(self, num_labels):\n",
    "                super(MultiModalModel, self).__init__()\n",
    "\n",
    "                # Load pre-trained models\n",
    "                self.bert = text\n",
    "                self.resnet = img\n",
    "\n",
    "                # Remove the final classification layer of ResNet\n",
    "                self.resnet = nn.Sequential(*list(self.resnet.children())[:-1])\n",
    "                self.mhca = MultiHeadCrossAttention(text_dim=768, image_dim=1280, num_heads=4, hidden_dim=512, output_dim=2048)\n",
    "                \n",
    "                \n",
    "                self.classifier = nn.Sequential(\n",
    "                    nn.Linear(2816, 512), \n",
    "                    nn.ReLU(),\n",
    "                    nn.Dropout(0.2),\n",
    "                    nn.Linear(512, num_labels)\n",
    "                )\n",
    "\n",
    "            def forward(self, input_ids, attention_mask, image):\n",
    "                # Forward pass through BERT\n",
    "                outputs = self.bert(input_ids=input_ids, attention_mask=attention_mask)\n",
    "                text_features = outputs['last_hidden_state'][:, 0, :]  # CLS token output as text feature\n",
    "                \n",
    "                # Forward pass through ResNet\n",
    "                image_features = self.resnet(image)\n",
    "                image_features = image_features.view(image_features.size(0), -1)  # Flatten the output\n",
    "                \n",
    "                if text_features.dim() == 2:\n",
    "                    text_features = text_features.unsqueeze(1)\n",
    "                if image_features.dim() == 2:\n",
    "                    image_features = image_features.unsqueeze(1)\n",
    "                \n",
    "                attended_text, attended_image = self.mhca(text_features, image_features)\n",
    "                \n",
    "                attended_text = attended_text.squeeze(1)  # shape: [16, 768]\n",
    "                attended_image = attended_image.squeeze(1) # shape: [16, 2048]\n",
    "\n",
    "                self.image_projection = torch.nn.Linear(2048, 768).to(device)\n",
    "                attended_image = self.image_projection(attended_image)\n",
    "                combined_features = torch.cat((attended_text, attended_image), dim=-1)\n",
    "\n",
    "                logits = self.classifier(combined_features)\n",
    "\n",
    "                return logits\n",
    "\n"
   ]
  },
  {
   "cell_type": "code",
   "execution_count": 7,
   "id": "568e1b32-8505-4c2e-9b44-89563ebb7724",
   "metadata": {},
   "outputs": [],
   "source": [
    "import urllib3, socket\n",
    "from urllib3.connection import HTTPConnection\n",
    "\n",
    "HTTPConnection.default_socket_options = ( \n",
    "    HTTPConnection.default_socket_options + [\n",
    "    (socket.SOL_SOCKET, socket.SO_SNDBUF, 1000000), #1MB in byte\n",
    "    (socket.SOL_SOCKET, socket.SO_RCVBUF, 1000000)\n",
    "])"
   ]
  },
  {
   "cell_type": "code",
   "execution_count": 8,
   "id": "09306857-c737-4380-a377-a6f71b0ef0ff",
   "metadata": {},
   "outputs": [],
   "source": [
    "# Function to run inference\n",
    "def run_inference(model, dataloader, device):\n",
    "    model.eval()\n",
    "    predictions = []\n",
    "\n",
    "    with torch.no_grad():\n",
    "        for batch in dataloader:\n",
    "            input_ids = batch['input_ids'].to(device)\n",
    "            attention_mask = batch['attention_mask'].to(device)\n",
    "            images = batch['image'].to(device)\n",
    "            \n",
    "            outputs = model(input_ids=input_ids, attention_mask=attention_mask, image=images)\n",
    "            \n",
    "            preds = torch.argmax(outputs, dim=1)\n",
    "            predictions.extend(preds.cpu().numpy())\n",
    "    \n",
    "    return predictions\n"
   ]
  },
  {
   "cell_type": "code",
   "execution_count": 80,
   "id": "e67750b4-b917-4d26-8cfe-19913dc21496",
   "metadata": {},
   "outputs": [
    {
     "name": "stdout",
     "output_type": "stream",
     "text": [
      "Inference took 172.26 seconds\n"
     ]
    },
    {
     "name": "stderr",
     "output_type": "stream",
     "text": [
      "/tmp/ipykernel_1650308/2464838286.py:33: SettingWithCopyWarning: \n",
      "A value is trying to be set on a copy of a slice from a DataFrame.\n",
      "Try using .loc[row_indexer,col_indexer] = value instead\n",
      "\n",
      "See the caveats in the documentation: https://pandas.pydata.org/pandas-docs/stable/user_guide/indexing.html#returning-a-view-versus-a-copy\n",
      "  df['predicted_label'] = predictions\n"
     ]
    }
   ],
   "source": [
    "# Initialize an empty model\n",
    "loaded_model = MultiModalModel(num_labels=2)\n",
    "\n",
    "# Load the state dictionary\n",
    "client.fget_object(\"multimodal\", \"model.pth\",'./model.pth')\n",
    "model_load_path = './model.pth'\n",
    "\n",
    "# Check device\n",
    "device = torch.device('cuda' if torch.cuda.is_available() else 'cpu')\n",
    "\n",
    "# Load the model weights\n",
    "if device == torch.device('cpu'):\n",
    "    loaded_model.load_state_dict(torch.load(model_load_path, map_location=device), strict=False)\n",
    "else:\n",
    "    loaded_model.load_state_dict(torch.load(model_load_path), strict=False)\n",
    "\n",
    "# Move model to evaluation mode and to the device\n",
    "loaded_model.eval()\n",
    "loaded_model = loaded_model.to(device)\n",
    "\n",
    "start_time = time.time()\n",
    "\n",
    "# Get the predictions\n",
    "predictions = run_inference(loaded_model, inference_dataloader, device)\n",
    "\n",
    "end_time = time.time()\n",
    "\n",
    "elapsed_time = end_time - start_time\n",
    "print(f\"Inference took {elapsed_time:.2f} seconds\")\n",
    "\n",
    "\n",
    "# Add predictions to the dataframe\n",
    "df['predicted_label'] = predictions"
   ]
  },
  {
   "cell_type": "code",
   "execution_count": null,
   "id": "296a17d9-f8bd-4e15-bb65-f0a2900a529d",
   "metadata": {},
   "outputs": [],
   "source": [
    "df.head()"
   ]
  },
  {
   "cell_type": "code",
   "execution_count": 63,
   "id": "c2d5ad37-f658-4def-934e-c078b8b1ca0f",
   "metadata": {},
   "outputs": [],
   "source": [
    "## TEST SET"
   ]
  },
  {
   "cell_type": "code",
   "execution_count": null,
   "id": "c74513c5-7144-4069-a3f5-96401614c560",
   "metadata": {},
   "outputs": [],
   "source": [
    "def check_performance(y_true, y_pred):\n",
    "    from sklearn.metrics import confusion_matrix\n",
    "    cm=confusion_matrix(y_true, y_pred)\n",
    "    return cm"
   ]
  },
  {
   "cell_type": "code",
   "execution_count": null,
   "id": "27283ccf-df33-4f2b-bad9-ad310946a0b5",
   "metadata": {},
   "outputs": [],
   "source": [
    "cf_matrix = check_performance(df[\"label\"], df[\"predicted_label\"])"
   ]
  },
  {
   "cell_type": "code",
   "execution_count": null,
   "id": "b9287bc6-3d07-44a4-a1e7-55bbddf16e30",
   "metadata": {},
   "outputs": [
    {
     "data": {
      "image/png": "[encoded data removed]",
      "text/plain": [
       "<Figure size 640x480 with 2 Axes>"
      ]
     },
     "metadata": {},
     "output_type": "display_data"
    }
   ],
   "source": [
    "\n",
    "import seaborn as sns\n",
    "import matplotlib.pyplot as plt\n",
    "\n",
    "\n",
    "# Create a list of labels for each cell in the confusion matrix\n",
    "labels = [['True Negative', 'False Positive'],\n",
    "          ['False Negative', 'True Positive']]\n",
    "\n",
    "# Create the heatmap with labels\n",
    "# sns.heatmap(cf_matrix, annot=True, fmt='', cmap='Blues')\n",
    "sns.heatmap(cf_matrix, annot=labels, annot_kws={'va':'bottom'}, fmt=\"\", cmap='Blues')\n",
    "sns.heatmap(cf_matrix, annot=True, annot_kws={'va':'top'}, fmt=\"\", cmap='Blues',  cbar=False)\n",
    "# Set the axis labels\n",
    "plt.xlabel('Predicted')\n",
    "plt.ylabel('Actual')\n",
    "\n",
    "# Display the plot\n",
    "plt.show()"
   ]
  },
  {
   "cell_type": "code",
   "execution_count": 61,
   "id": "2e66f53c-818a-4ec6-b554-67be31618295",
   "metadata": {},
   "outputs": [],
   "source": [
    "from sklearn.metrics import f1_score, precision_score, recall_score, accuracy_score"
   ]
  },
  {
   "cell_type": "code",
   "execution_count": 62,
   "id": "64dfeda2-2f99-4c8c-97fb-18587e1f6fdc",
   "metadata": {},
   "outputs": [
    {
     "data": {
      "text/plain": [
       "'Precision: 0.8333333333333334 Recall: 0.8461538461538461, accuracy: 0.8046511627906977'"
      ]
     },
     "execution_count": 62,
     "metadata": {},
     "output_type": "execute_result"
    }
   ],
   "source": [
    "precision = precision_score(df[\"label\"], df[\"predicted_label\"])\n",
    "recall = recall_score(df[\"label\"], df[\"predicted_label\"])\n",
    "accuracy = accuracy_score(df[\"label\"], df[\"predicted_label\"])\n",
    "f\"Precision: {recall} Recall: {precision}, accuracy: {accuracy}\""
   ]
  },
  {
   "cell_type": "code",
   "execution_count": 64,
   "id": "f2ee6bd3-c14a-4346-a73e-42f0e47bb0c2",
   "metadata": {},
   "outputs": [],
   "source": [
    "## TRAINING SET"
   ]
  },
  {
   "cell_type": "code",
   "execution_count": 81,
   "id": "ae2aada6-b15a-4000-9ec4-e3f299960078",
   "metadata": {},
   "outputs": [],
   "source": [
    "cf_matrix = check_performance(df[\"label\"], df[\"predicted_label\"])"
   ]
  },
  {
   "cell_type": "code",
   "execution_count": 82,
   "id": "a204a1e5-c62b-4c6e-aacb-0873fa3f9472",
   "metadata": {},
   "outputs": [
    {
     "data": {
      "image/png": "[encoded data removed]",
      "text/plain": [
       "<Figure size 640x480 with 2 Axes>"
      ]
     },
     "metadata": {},
     "output_type": "display_data"
    }
   ],
   "source": [
    "\n",
    "import seaborn as sns\n",
    "import matplotlib.pyplot as plt\n",
    "\n",
    "\n",
    "# Create a list of labels for each cell in the confusion matrix\n",
    "labels = [['True Negative', 'False Positive'],\n",
    "          ['False Negative', 'True Positive']]\n",
    "\n",
    "# Create the heatmap with labels\n",
    "# sns.heatmap(cf_matrix, annot=True, fmt='', cmap='Blues')\n",
    "sns.heatmap(cf_matrix, annot=labels, annot_kws={'va':'bottom'}, fmt=\"\", cmap='Blues')\n",
    "sns.heatmap(cf_matrix, annot=True, annot_kws={'va':'top'}, fmt=\"\", cmap='Blues',  cbar=False)\n",
    "# Set the axis labels\n",
    "plt.xlabel('Predicted')\n",
    "plt.ylabel('Actual')\n",
    "\n",
    "# Display the plot\n",
    "plt.show()"
   ]
  },
  {
   "cell_type": "code",
   "execution_count": 83,
   "id": "5bfbc5a8-55b1-46d7-afa9-e2e8441bd15c",
   "metadata": {},
   "outputs": [
    {
     "data": {
      "text/plain": [
       "'Precision: 0.7653061224489796 Recall: 0.6818181818181818, accuracy: 0.8'"
      ]
     },
     "execution_count": 83,
     "metadata": {},
     "output_type": "execute_result"
    }
   ],
   "source": [
    "precision = precision_score(df[\"label\"], df[\"predicted_label\"])\n",
    "recall = recall_score(df[\"label\"], df[\"predicted_label\"])\n",
    "accuracy = accuracy_score(df[\"label\"], df[\"predicted_label\"])\n",
    "f\"Precision: {recall} Recall: {precision}, accuracy: {accuracy}\""
   ]
  },
  {
   "cell_type": "code",
   "execution_count": null,
   "id": "25a730a9-6f37-4282-a171-ada2306a5de6",
   "metadata": {},
   "outputs": [],
   "source": []
  }
 ],
 "metadata": {
  "kernelspec": {
   "display_name": "Python 3 (ipykernel)",
   "language": "python",
   "name": "python3"
  },
  "language_info": {
   "codemirror_mode": {
    "name": "ipython",
    "version": 3
   },
   "file_extension": ".py",
   "mimetype": "text/x-python",
   "name": "python",
   "nbconvert_exporter": "python",
   "pygments_lexer": "ipython3",
   "version": "3.9.14"
  }
 },
 "nbformat": 4,
 "nbformat_minor": 5
}
